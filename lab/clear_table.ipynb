{
 "cells": [
  {
   "cell_type": "code",
   "execution_count": 1,
   "metadata": {},
   "outputs": [],
   "source": [
    "import os,sys,inspect\n",
    "current_dir = os.path.dirname(os.path.abspath(inspect.getfile(inspect.currentframe())))\n",
    "parent_dir = os.path.dirname(current_dir)\n",
    "sys.path.insert(0, parent_dir)"
   ]
  },
  {
   "cell_type": "code",
   "execution_count": 2,
   "metadata": {},
   "outputs": [],
   "source": [
    "from constant import DB_HOST, DB_PORT, DB_USERNAME, DB_PWD\n",
    "from bbs_db import BBS_DB\n",
    "from db.base import Base\n",
    "\n",
    "DB = BBS_DB(DB_HOST, DB_PORT, DB_USERNAME, DB_PWD)"
   ]
  },
  {
   "cell_type": "code",
   "execution_count": 3,
   "metadata": {},
   "outputs": [],
   "source": [
    "DB.session.execute('SET FOREIGN_KEY_CHECKS = 0')\n",
    "for table in Base.metadata.tables:\n",
    "    DB.session.execute(f'DROP TABLE {table};')\n",
    "DB.session.execute('SET FOREIGN_KEY_CHECKS = 1')\n",
    "DB.session.commit()"
   ]
  }
 ],
 "metadata": {
  "kernelspec": {
   "display_name": "Python 3",
   "language": "python",
   "name": "python3"
  },
  "language_info": {
   "codemirror_mode": {
    "name": "ipython",
    "version": 3
   },
   "file_extension": ".py",
   "mimetype": "text/x-python",
   "name": "python",
   "nbconvert_exporter": "python",
   "pygments_lexer": "ipython3",
   "version": "3.8.2"
  }
 },
 "nbformat": 4,
 "nbformat_minor": 2
}
