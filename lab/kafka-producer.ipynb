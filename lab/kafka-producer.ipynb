{
 "cells": [
  {
   "cell_type": "code",
   "execution_count": 1,
   "metadata": {},
   "outputs": [],
   "source": [
    "KAFKA_SERVER = \"ec2-18-232-50-188.compute-1.amazonaws.com\"\n",
    "KAFKA_PORT = 9092"
   ]
  },
  {
   "cell_type": "code",
   "execution_count": 76,
   "metadata": {},
   "outputs": [],
   "source": [
    "from kafka import KafkaProducer\n",
    "import json\n",
    "\n",
    "producer = KafkaProducer(bootstrap_servers=[f\"{KAFKA_SERVER}:{KAFKA_PORT}\"],\n",
    "                         value_serializer=lambda m: json.dumps(m).encode())"
   ]
  },
  {
   "cell_type": "code",
   "execution_count": 93,
   "metadata": {},
   "outputs": [],
   "source": [
    "data = {\n",
    "    \"k\": \"v\"\n",
    "}\n",
    "\n",
    "future = producer.send('my-json', data)"
   ]
  }
 ],
 "metadata": {
  "kernelspec": {
   "display_name": "Playground",
   "language": "python",
   "name": "playground"
  },
  "language_info": {
   "codemirror_mode": {
    "name": "ipython",
    "version": 3
   },
   "file_extension": ".py",
   "mimetype": "text/x-python",
   "name": "python",
   "nbconvert_exporter": "python",
   "pygments_lexer": "ipython3",
   "version": "3.8.3"
  }
 },
 "nbformat": 4,
 "nbformat_minor": 2
}