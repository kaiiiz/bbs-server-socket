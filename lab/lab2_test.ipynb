{
 "cells": [
  {
   "cell_type": "code",
   "execution_count": 1,
   "metadata": {},
   "outputs": [],
   "source": [
    "import os,sys,inspect\n",
    "current_dir = os.path.dirname(os.path.abspath(inspect.getfile(inspect.currentframe())))\n",
    "parent_dir = os.path.dirname(current_dir)\n",
    "sys.path.insert(0, parent_dir)"
   ]
  },
  {
   "cell_type": "code",
   "execution_count": 2,
   "metadata": {},
   "outputs": [],
   "source": [
    "from bbs_controller import BBS_Controller\n",
    "controller = BBS_Controller()"
   ]
  },
  {
   "cell_type": "code",
   "execution_count": 3,
   "metadata": {},
   "outputs": [
    {
     "name": "stdout",
     "output_type": "stream",
     "text": [
      "Please login first.\n",
      "\n"
     ]
    }
   ],
   "source": [
    "print(controller.execute(b'create-board NP_HW'))"
   ]
  },
  {
   "cell_type": "code",
   "execution_count": 4,
   "metadata": {},
   "outputs": [
    {
     "name": "stdout",
     "output_type": "stream",
     "text": [
      "Register successfull.\n",
      "\n"
     ]
    }
   ],
   "source": [
    "print(controller.execute(b'register Bob bob@qwer.asdf 123456'))"
   ]
  },
  {
   "cell_type": "code",
   "execution_count": 5,
   "metadata": {},
   "outputs": [
    {
     "name": "stdout",
     "output_type": "stream",
     "text": [
      "Register successfull.\n",
      "\n"
     ]
    }
   ],
   "source": [
    "print(controller.execute(b'register Sam sam@qwer.com 654321'))"
   ]
  },
  {
   "cell_type": "code",
   "execution_count": 6,
   "metadata": {},
   "outputs": [
    {
     "name": "stdout",
     "output_type": "stream",
     "text": [
      "Welcome, Bob.\n",
      "\n"
     ]
    }
   ],
   "source": [
    "print(controller.execute(b'login Bob 123456'))"
   ]
  },
  {
   "cell_type": "code",
   "execution_count": 7,
   "metadata": {},
   "outputs": [
    {
     "name": "stdout",
     "output_type": "stream",
     "text": [
      "Create board successfully.\n",
      "\n"
     ]
    }
   ],
   "source": [
    "print(controller.execute(b'create-board NP_HW'))"
   ]
  },
  {
   "cell_type": "code",
   "execution_count": 8,
   "metadata": {},
   "outputs": [
    {
     "name": "stdout",
     "output_type": "stream",
     "text": [
      "Board is already exist.\n",
      "\n"
     ]
    }
   ],
   "source": [
    "print(controller.execute(b'create-board NP_HW'))"
   ]
  },
  {
   "cell_type": "code",
   "execution_count": 9,
   "metadata": {},
   "outputs": [
    {
     "name": "stdout",
     "output_type": "stream",
     "text": [
      "Create board successfully.\n",
      "\n"
     ]
    }
   ],
   "source": [
    "print(controller.execute(b'create-board OS_HW'))"
   ]
  },
  {
   "cell_type": "code",
   "execution_count": 10,
   "metadata": {},
   "outputs": [
    {
     "name": "stdout",
     "output_type": "stream",
     "text": [
      "Create board successfully.\n",
      "\n"
     ]
    }
   ],
   "source": [
    "print(controller.execute(b'create-board FF'))"
   ]
  },
  {
   "cell_type": "code",
   "execution_count": 11,
   "metadata": {
    "scrolled": true
   },
   "outputs": [
    {
     "name": "stdout",
     "output_type": "stream",
     "text": [
      "\tIndex     Name      Moderator\n",
      "\t1         NP_HW     Bob\n",
      "\t2         OS_HW     Bob\n",
      "\t3         FF        Bob\n",
      "\n"
     ]
    }
   ],
   "source": [
    "print(controller.execute(b'list-board'))"
   ]
  },
  {
   "cell_type": "code",
   "execution_count": 12,
   "metadata": {
    "scrolled": true
   },
   "outputs": [
    {
     "name": "stdout",
     "output_type": "stream",
     "text": [
      "\tIndex     Name      Moderator\n",
      "\t1         NP_HW     Bob\n",
      "\t2         OS_HW     Bob\n",
      "\n"
     ]
    }
   ],
   "source": [
    "print(controller.execute(b'list-board ##HW'))"
   ]
  },
  {
   "cell_type": "code",
   "execution_count": 13,
   "metadata": {},
   "outputs": [
    {
     "name": "stdout",
     "output_type": "stream",
     "text": [
      "Board is not exist.\n",
      "\n"
     ]
    }
   ],
   "source": [
    "print(controller.execute(b'create-post NCTU --title About NP HW_2 --content Help!<br>I have some problem!'))"
   ]
  },
  {
   "cell_type": "code",
   "execution_count": 14,
   "metadata": {},
   "outputs": [
    {
     "name": "stdout",
     "output_type": "stream",
     "text": [
      "Create post successfully.\n",
      "\n"
     ]
    }
   ],
   "source": [
    "print(controller.execute(b'create-post NP_HW --title About NP HW_2 --content Help!<br>I have some problem!'))"
   ]
  },
  {
   "cell_type": "code",
   "execution_count": 15,
   "metadata": {},
   "outputs": [
    {
     "name": "stdout",
     "output_type": "stream",
     "text": [
      "Create post successfully.\n",
      "\n"
     ]
    }
   ],
   "source": [
    "print(controller.execute(b'create-post NP_HW --title HW_3 --content Ask!<br>Is NP HW_3 Released?'))"
   ]
  },
  {
   "cell_type": "code",
   "execution_count": 16,
   "metadata": {},
   "outputs": [
    {
     "name": "stdout",
     "output_type": "stream",
     "text": [
      "Board is not exist.\n",
      "\n"
     ]
    }
   ],
   "source": [
    "print(controller.execute(b'list-post NP'))"
   ]
  },
  {
   "cell_type": "code",
   "execution_count": 17,
   "metadata": {},
   "outputs": [
    {
     "name": "stdout",
     "output_type": "stream",
     "text": [
      "\tID        Title             Author     Date\n",
      "\t1         About NP HW_2     Bob        05/11\n",
      "\t2         HW_3              Bob        05/11\n",
      "\n"
     ]
    }
   ],
   "source": [
    "print(controller.execute(b'list-post NP_HW'))"
   ]
  },
  {
   "cell_type": "code",
   "execution_count": 18,
   "metadata": {},
   "outputs": [
    {
     "name": "stdout",
     "output_type": "stream",
     "text": [
      "\tID        Title             Author     Date\n",
      "\t1         About NP HW_2     Bob        05/11\n",
      "\n"
     ]
    }
   ],
   "source": [
    "print(controller.execute(b'list-post NP_HW ##HW_2'))"
   ]
  },
  {
   "cell_type": "code",
   "execution_count": 19,
   "metadata": {
    "scrolled": true
   },
   "outputs": [
    {
     "name": "stdout",
     "output_type": "stream",
     "text": [
      "Post is not exist.\n",
      "\n"
     ]
    }
   ],
   "source": [
    "print(controller.execute(b'read 888'))"
   ]
  },
  {
   "cell_type": "code",
   "execution_count": 20,
   "metadata": {},
   "outputs": [
    {
     "name": "stdout",
     "output_type": "stream",
     "text": [
      "\tAuthor    : Bob\n",
      "\tTitle     : About NP HW_2\n",
      "\tDate      : 2020-05-11\n",
      "\t--\n",
      "\tHelp!\n",
      "\tI have some problem!\n",
      "\t--\n",
      "\n"
     ]
    }
   ],
   "source": [
    "print(controller.execute(b'read 1'))"
   ]
  },
  {
   "cell_type": "code",
   "execution_count": 21,
   "metadata": {},
   "outputs": [
    {
     "name": "stdout",
     "output_type": "stream",
     "text": [
      "Post is not exist.\n",
      "\n"
     ]
    }
   ],
   "source": [
    "print(controller.execute(b'update-post 888 --title NP HW_2'))"
   ]
  },
  {
   "cell_type": "code",
   "execution_count": 22,
   "metadata": {},
   "outputs": [
    {
     "name": "stdout",
     "output_type": "stream",
     "text": [
      "Update successfully.\n",
      "\n"
     ]
    }
   ],
   "source": [
    "print(controller.execute(b'update-post 1 --title NP HW_2'))"
   ]
  },
  {
   "cell_type": "code",
   "execution_count": 23,
   "metadata": {},
   "outputs": [
    {
     "name": "stdout",
     "output_type": "stream",
     "text": [
      "\tAuthor    : Bob\n",
      "\tTitle     : NP HW_2\n",
      "\tDate      : 2020-05-11\n",
      "\t--\n",
      "\tHelp!\n",
      "\tI have some problem!\n",
      "\t--\n",
      "\n"
     ]
    }
   ],
   "source": [
    "print(controller.execute(b'read 1'))"
   ]
  },
  {
   "cell_type": "code",
   "execution_count": 24,
   "metadata": {},
   "outputs": [
    {
     "name": "stdout",
     "output_type": "stream",
     "text": [
      "Bye, Bob.\n",
      "\n"
     ]
    }
   ],
   "source": [
    "print(controller.execute(b'logout'))"
   ]
  },
  {
   "cell_type": "code",
   "execution_count": 25,
   "metadata": {},
   "outputs": [
    {
     "name": "stdout",
     "output_type": "stream",
     "text": [
      "Welcome, Sam.\n",
      "\n"
     ]
    }
   ],
   "source": [
    "print(controller.execute(b'login Sam 654321'))"
   ]
  },
  {
   "cell_type": "code",
   "execution_count": 26,
   "metadata": {},
   "outputs": [
    {
     "name": "stdout",
     "output_type": "stream",
     "text": [
      "Not the post owner.\n",
      "\n"
     ]
    }
   ],
   "source": [
    "print(controller.execute(b'update-post 1 --content Ha!<br>ha!<br>ha!'))"
   ]
  },
  {
   "cell_type": "code",
   "execution_count": 27,
   "metadata": {},
   "outputs": [
    {
     "name": "stdout",
     "output_type": "stream",
     "text": [
      "Not the post owner.\n",
      "\n"
     ]
    }
   ],
   "source": [
    "print(controller.execute(b'delete-post 1'))"
   ]
  },
  {
   "cell_type": "code",
   "execution_count": 28,
   "metadata": {},
   "outputs": [
    {
     "name": "stdout",
     "output_type": "stream",
     "text": [
      "Post is not exist.\n",
      "\n"
     ]
    }
   ],
   "source": [
    "print(controller.execute(b'comment 888 Ha! ha! ha!'))"
   ]
  },
  {
   "cell_type": "code",
   "execution_count": 29,
   "metadata": {},
   "outputs": [
    {
     "name": "stdout",
     "output_type": "stream",
     "text": [
      "Comment successfully.\n",
      "\n"
     ]
    }
   ],
   "source": [
    "print(controller.execute(b'comment 1 Ha! ha! ha!'))"
   ]
  },
  {
   "cell_type": "code",
   "execution_count": 30,
   "metadata": {},
   "outputs": [
    {
     "name": "stdout",
     "output_type": "stream",
     "text": [
      "\tAuthor    : Bob\n",
      "\tTitle     : NP HW_2\n",
      "\tDate      : 2020-05-11\n",
      "\t--\n",
      "\tHelp!\n",
      "\tI have some problem!\n",
      "\t--\n",
      "\tSam: Ha! ha! ha!\n",
      "\n"
     ]
    }
   ],
   "source": [
    "print(controller.execute(b'read 1'))"
   ]
  },
  {
   "cell_type": "code",
   "execution_count": 31,
   "metadata": {},
   "outputs": [
    {
     "name": "stdout",
     "output_type": "stream",
     "text": [
      "Create board successfully.\n",
      "\n"
     ]
    }
   ],
   "source": [
    "print(controller.execute(b'create-board Hello'))"
   ]
  },
  {
   "cell_type": "code",
   "execution_count": 32,
   "metadata": {},
   "outputs": [
    {
     "name": "stdout",
     "output_type": "stream",
     "text": [
      "\tIndex     Name      Moderator\n",
      "\t1         NP_HW     Bob\n",
      "\t2         OS_HW     Bob\n",
      "\t3         FF        Bob\n",
      "\t4         Hello     Sam\n",
      "\n"
     ]
    }
   ],
   "source": [
    "print(controller.execute(b'list-board'))"
   ]
  },
  {
   "cell_type": "code",
   "execution_count": 33,
   "metadata": {},
   "outputs": [
    {
     "name": "stdout",
     "output_type": "stream",
     "text": [
      "Bye, Sam.\n",
      "\n"
     ]
    }
   ],
   "source": [
    "print(controller.execute(b'logout'))"
   ]
  },
  {
   "cell_type": "code",
   "execution_count": 34,
   "metadata": {},
   "outputs": [
    {
     "name": "stdout",
     "output_type": "stream",
     "text": [
      "Welcome, Bob.\n",
      "\n"
     ]
    }
   ],
   "source": [
    "print(controller.execute(b'login Bob 123456'))"
   ]
  },
  {
   "cell_type": "code",
   "execution_count": 35,
   "metadata": {},
   "outputs": [
    {
     "name": "stdout",
     "output_type": "stream",
     "text": [
      "Delete successfully.\n",
      "\n"
     ]
    }
   ],
   "source": [
    "print(controller.execute(b'delete-post 1'))"
   ]
  },
  {
   "cell_type": "code",
   "execution_count": 36,
   "metadata": {},
   "outputs": [
    {
     "name": "stdout",
     "output_type": "stream",
     "text": [
      "Post is not exist.\n",
      "\n"
     ]
    }
   ],
   "source": [
    "print(controller.execute(b'read 1'))"
   ]
  },
  {
   "cell_type": "code",
   "execution_count": 37,
   "metadata": {},
   "outputs": [
    {
     "name": "stdout",
     "output_type": "stream",
     "text": [
      "Bye, Bob.\n",
      "\n"
     ]
    }
   ],
   "source": [
    "print(controller.execute(b'logout'))"
   ]
  },
  {
   "cell_type": "code",
   "execution_count": 38,
   "metadata": {},
   "outputs": [
    {
     "name": "stdout",
     "output_type": "stream",
     "text": [
      "-1\n"
     ]
    }
   ],
   "source": [
    "print(controller.execute(b'exit'))"
   ]
  }
 ],
 "metadata": {
  "kernelspec": {
   "display_name": "Python 3",
   "language": "python",
   "name": "python3"
  },
  "language_info": {
   "codemirror_mode": {
    "name": "ipython",
    "version": 3
   },
   "file_extension": ".py",
   "mimetype": "text/x-python",
   "name": "python",
   "nbconvert_exporter": "python",
   "pygments_lexer": "ipython3",
   "version": "3.8.2"
  }
 },
 "nbformat": 4,
 "nbformat_minor": 2
}
