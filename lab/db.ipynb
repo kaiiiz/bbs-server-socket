{
 "cells": [
  {
   "cell_type": "code",
   "execution_count": 1,
   "metadata": {},
   "outputs": [],
   "source": [
    "import os,sys,inspect\n",
    "current_dir = os.path.dirname(os.path.abspath(inspect.getfile(inspect.currentframe())))\n",
    "parent_dir = os.path.dirname(current_dir)\n",
    "sys.path.insert(0, parent_dir)"
   ]
  },
  {
   "cell_type": "code",
   "execution_count": 2,
   "metadata": {
    "scrolled": true
   },
   "outputs": [],
   "source": [
    "from bbs_db_schema import SCHEMA_CREATOR\n",
    "from constant import DB_HOST, DB_PORT, DB_USERNAME, DB_PWD\n",
    "creator = SCHEMA_CREATOR(DB_HOST, DB_PORT, DB_USERNAME, DB_PWD)"
   ]
  },
  {
   "cell_type": "code",
   "execution_count": 3,
   "metadata": {},
   "outputs": [],
   "source": [
    "creator.create_table()"
   ]
  },
  {
   "cell_type": "code",
   "execution_count": 30,
   "metadata": {},
   "outputs": [
    {
     "name": "stdout",
     "output_type": "stream",
     "text": [
      "start magic\n",
      "(<__main__.DB object at 0x7f2a739ce5e0>, 1, 2, 3)\n",
      "hi in\n",
      "1 2 3\n",
      "hi out\n",
      "end magic\n"
     ]
    }
   ],
   "source": [
    "class DB_BASE:\n",
    "    def __init__(self):\n",
    "        self.session = '1'\n",
    "\n",
    "    @staticmethod\n",
    "    def protector(func):\n",
    "        def magic( *args):\n",
    "            print(\"start magic\")\n",
    "            print(args)\n",
    "            func( *args)\n",
    "            print(\"end magic\")\n",
    "        return magic\n",
    "\n",
    "       \n",
    "class DB(DB_BASE):\n",
    "    @DB_BASE.protector\n",
    "    def hi(self, a, b, c):\n",
    "        print(\"hi in\")\n",
    "        print(a, b, c)\n",
    "        print(\"hi out\")\n",
    "\n",
    "\n",
    "db = DB()\n",
    "db.hi(1, 2, 3)"
   ]
  },
  {
   "cell_type": "code",
   "execution_count": 39,
   "metadata": {},
   "outputs": [
    {
     "name": "stdout",
     "output_type": "stream",
     "text": [
      "fin\n"
     ]
    },
    {
     "data": {
      "text/plain": [
       "1"
      ]
     },
     "execution_count": 39,
     "metadata": {},
     "output_type": "execute_result"
    }
   ],
   "source": [
    "def a(b):\n",
    "    try:\n",
    "        return b\n",
    "    except:\n",
    "        print(\"qq\")\n",
    "    finally:\n",
    "        print('fin')\n",
    "        \n",
    "        \n",
    "c = a(1)\n",
    "c"
   ]
  }
 ],
 "metadata": {
  "kernelspec": {
   "display_name": "Python 3",
   "language": "python",
   "name": "python3"
  },
  "language_info": {
   "codemirror_mode": {
    "name": "ipython",
    "version": 3
   },
   "file_extension": ".py",
   "mimetype": "text/x-python",
   "name": "python",
   "nbconvert_exporter": "python",
   "pygments_lexer": "ipython3",
   "version": "3.8.2"
  }
 },
 "nbformat": 4,
 "nbformat_minor": 2
}
