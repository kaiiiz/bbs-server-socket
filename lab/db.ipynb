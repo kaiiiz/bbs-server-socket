{
 "cells": [
  {
   "cell_type": "code",
   "execution_count": 1,
   "metadata": {},
   "outputs": [],
   "source": [
    "import os,sys,inspect\n",
    "current_dir = os.path.dirname(os.path.abspath(inspect.getfile(inspect.currentframe())))\n",
    "parent_dir = os.path.dirname(current_dir)\n",
    "sys.path.insert(0, parent_dir)"
   ]
  },
  {
   "cell_type": "code",
   "execution_count": 2,
   "metadata": {
    "scrolled": true
   },
   "outputs": [],
   "source": [
    "from bbs_db_schema import SCHEMA_CREATOR\n",
    "from constant import DB_HOST, DB_PORT, DB_USERNAME, DB_PWD\n",
    "creator = SCHEMA_CREATOR(DB_HOST, DB_PORT, DB_USERNAME, DB_PWD)\n",
    "creator.create_table()"
   ]
  },
  {
   "cell_type": "code",
   "execution_count": 3,
   "metadata": {},
   "outputs": [
    {
     "data": {
      "text/plain": [
       "<sqlalchemy.orm.session.Session at 0x7f99fd634880>"
      ]
     },
     "execution_count": 3,
     "metadata": {},
     "output_type": "execute_result"
    }
   ],
   "source": [
    "# from sqlalchemy import create_engine\n",
    "# from sqlalchemy.orm import scoped_session, sessionmaker\n",
    "\n",
    "# engine = create_engine(f\"mysql://{DB_USERNAME}:{DB_PWD}@{DB_HOST}:{DB_PORT}/bbs\")\n",
    "# session_factory = sessionmaker(bind=engine)\n",
    "# scoped_session_factory = scoped_session(session_factory)\n",
    "\n",
    "# session = scoped_session_factory()\n",
    "# session"
   ]
  },
  {
   "cell_type": "code",
   "execution_count": 23,
   "metadata": {
    "scrolled": true
   },
   "outputs": [
    {
     "data": {
      "text/plain": [
       "{'id': 3,\n",
       " 'username': 'z',\n",
       " 'email': 'b',\n",
       " 'password': 'z',\n",
       " 'bucket_name': 'cc',\n",
       " 'posts': [],\n",
       " 'boards': [],\n",
       " 'receive_mails': [],\n",
       " 'send_mails': []}"
      ]
     },
     "execution_count": 23,
     "metadata": {},
     "output_type": "execute_result"
    }
   ],
   "source": [
    "from bbs_db import BBS_DB_API\n",
    "from db.boards import *\n",
    "from db.mails import *\n",
    "from db.posts import *\n",
    "from db.users import *\n",
    "\n",
    "db_api = BBS_DB_API(DB_HOST, DB_PORT, DB_USERNAME, DB_PWD)\n",
    "\n",
    "# Create\n",
    "db_api.create(Users, {\n",
    "    'username': 'z',\n",
    "    'email': 'b',\n",
    "    'password': 'z',\n",
    "    'bucket_name': 'cc',\n",
    "})\n",
    "\n",
    "# Read\n",
    "\n"
   ]
  }
 ],
 "metadata": {
  "kernelspec": {
   "display_name": "Python 3",
   "language": "python",
   "name": "python3"
  },
  "language_info": {
   "codemirror_mode": {
    "name": "ipython",
    "version": 3
   },
   "file_extension": ".py",
   "mimetype": "text/x-python",
   "name": "python",
   "nbconvert_exporter": "python",
   "pygments_lexer": "ipython3",
   "version": "3.8.2"
  }
 },
 "nbformat": 4,
 "nbformat_minor": 2
}
