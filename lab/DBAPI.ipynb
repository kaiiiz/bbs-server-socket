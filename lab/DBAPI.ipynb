{
 "cells": [
  {
   "cell_type": "code",
   "execution_count": 1,
   "metadata": {},
   "outputs": [],
   "source": [
    "import os,sys,inspect\n",
    "current_dir = os.path.dirname(os.path.abspath(inspect.getfile(inspect.currentframe())))\n",
    "parent_dir = os.path.dirname(current_dir)\n",
    "sys.path.insert(0, parent_dir)"
   ]
  },
  {
   "cell_type": "code",
   "execution_count": 2,
   "metadata": {},
   "outputs": [],
   "source": [
    "from constant import DB_HOST, DB_PORT, DB_USERNAME, DB_PWD\n",
    "from bbs_db import BBS_DB_API\n",
    "from db.boards import *\n",
    "from db.mails import *\n",
    "from db.posts import *\n",
    "from db.users import *\n",
    "\n",
    "db_api = BBS_DB_API(DB_HOST, DB_PORT, DB_USERNAME, DB_PWD)"
   ]
  },
  {
   "cell_type": "code",
   "execution_count": 3,
   "metadata": {},
   "outputs": [
    {
     "data": {
      "text/plain": [
       "{'id': 12,\n",
       " 'username': 'z',\n",
       " 'email': 'b',\n",
       " 'password': 'z',\n",
       " 'bucket_name': 'cc',\n",
       " 'posts': [],\n",
       " 'boards': [],\n",
       " 'receive_mails': [],\n",
       " 'send_mails': []}"
      ]
     },
     "execution_count": 3,
     "metadata": {},
     "output_type": "execute_result"
    }
   ],
   "source": [
    "# Create\n",
    "db_api.create(Users, {\n",
    "    'username': 'z',\n",
    "    'email': 'b',\n",
    "    'password': 'z',\n",
    "    'bucket_name': 'cc',\n",
    "})"
   ]
  },
  {
   "cell_type": "code",
   "execution_count": 4,
   "metadata": {
    "scrolled": true
   },
   "outputs": [
    {
     "data": {
      "text/plain": [
       "{'id': 8,\n",
       " 'username': 'abcddd',\n",
       " 'email': 'b',\n",
       " 'password': 'z',\n",
       " 'bucket_name': 'cc',\n",
       " 'posts': [],\n",
       " 'boards': [],\n",
       " 'receive_mails': [],\n",
       " 'send_mails': []}"
      ]
     },
     "execution_count": 4,
     "metadata": {},
     "output_type": "execute_result"
    }
   ],
   "source": [
    "# Read\n",
    "db_api.get(Users, 8)"
   ]
  },
  {
   "cell_type": "code",
   "execution_count": 5,
   "metadata": {
    "scrolled": true
   },
   "outputs": [
    {
     "data": {
      "text/plain": [
       "[{'id': 12,\n",
       "  'username': 'z',\n",
       "  'email': 'b',\n",
       "  'password': 'z',\n",
       "  'bucket_name': 'cc',\n",
       "  'posts': [],\n",
       "  'boards': [],\n",
       "  'receive_mails': [],\n",
       "  'send_mails': []}]"
      ]
     },
     "execution_count": 5,
     "metadata": {},
     "output_type": "execute_result"
    }
   ],
   "source": [
    "# Read filter\n",
    "db_api.get_filter(Users, Users.username == 'z')"
   ]
  },
  {
   "cell_type": "code",
   "execution_count": 6,
   "metadata": {},
   "outputs": [
    {
     "data": {
      "text/plain": [
       "{'id': 8,\n",
       " 'username': 'abcd',\n",
       " 'email': 'b',\n",
       " 'password': 'z',\n",
       " 'bucket_name': 'cc',\n",
       " 'posts': [],\n",
       " 'boards': [],\n",
       " 'receive_mails': [],\n",
       " 'send_mails': []}"
      ]
     },
     "execution_count": 6,
     "metadata": {},
     "output_type": "execute_result"
    }
   ],
   "source": [
    "# Update\n",
    "db_api.update(Users, 8, {\n",
    "    'username': 'abcd',\n",
    "})"
   ]
  },
  {
   "cell_type": "code",
   "execution_count": 7,
   "metadata": {},
   "outputs": [
    {
     "data": {
      "text/plain": [
       "[{'id': 8,\n",
       "  'username': 'abcddd',\n",
       "  'email': 'b',\n",
       "  'password': 'z',\n",
       "  'bucket_name': 'cc',\n",
       "  'posts': [],\n",
       "  'boards': [],\n",
       "  'receive_mails': [],\n",
       "  'send_mails': []}]"
      ]
     },
     "execution_count": 7,
     "metadata": {},
     "output_type": "execute_result"
    }
   ],
   "source": [
    "# Update filter\n",
    "db_api.update_filter(Users, Users.username == 'abcd', {\n",
    "    'username': 'abcddd',\n",
    "})"
   ]
  },
  {
   "cell_type": "code",
   "execution_count": 10,
   "metadata": {},
   "outputs": [],
   "source": [
    "# Delete\n",
    "db_api.delete(Users, 12)"
   ]
  }
 ],
 "metadata": {
  "kernelspec": {
   "display_name": "'Python Interactive'",
   "language": "python",
   "name": "04b6dd55-a2c3-4670-bd03-59d7877f8872"
  },
  "language_info": {
   "codemirror_mode": {
    "name": "ipython",
    "version": 3
   },
   "file_extension": ".py",
   "mimetype": "text/x-python",
   "name": "python",
   "nbconvert_exporter": "python",
   "pygments_lexer": "ipython3",
   "version": "3.8.2"
  }
 },
 "nbformat": 4,
 "nbformat_minor": 2
}
